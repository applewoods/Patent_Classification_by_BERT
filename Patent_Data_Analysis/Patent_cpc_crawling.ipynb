{
 "cells": [
  {
   "cell_type": "markdown",
   "metadata": {},
   "source": [
    "## CPC코드 이름 및 설명 크롤링"
   ]
  },
  {
   "cell_type": "code",
   "execution_count": 1,
   "metadata": {},
   "outputs": [],
   "source": [
    "import pandas as pd\n",
    "\n",
    "import requests\n",
    "from bs4 import BeautifulSoup\n",
    "\n",
    "from tqdm import tqdm_notebook"
   ]
  },
  {
   "cell_type": "code",
   "execution_count": 2,
   "metadata": {},
   "outputs": [],
   "source": [
    "key = 'P3yIQK9l913rtuLqaQ=2Wlo8e9yGxmd3OBR1Di6KRk4='"
   ]
  },
  {
   "cell_type": "code",
   "execution_count": 3,
   "metadata": {},
   "outputs": [
    {
     "name": "stderr",
     "output_type": "stream",
     "text": [
      "/home/ubuntu/anaconda3/envs/pytorch_p36/lib/python3.6/site-packages/ipykernel_launcher.py:4: TqdmDeprecationWarning: This function will be removed in tqdm==5.0.0\n",
      "Please use `tqdm.notebook.tqdm` instead of `tqdm.tqdm_notebook`\n",
      "  after removing the cwd from sys.path.\n"
     ]
    },
    {
     "data": {
      "application/vnd.jupyter.widget-view+json": {
       "model_id": "9fb8d6014db24f8698b941998a40ec04",
       "version_major": 2,
       "version_minor": 0
      },
      "text/plain": [
       "HBox(children=(FloatProgress(value=0.0, max=12.0), HTML(value='')))"
      ]
     },
     "metadata": {},
     "output_type": "display_data"
    },
    {
     "name": "stdout",
     "output_type": "stream",
     "text": [
      "\n"
     ]
    }
   ],
   "source": [
    "search_list = set(['Y10S 420', 'Y10S 208', 'Y02E 60', 'F28D 2021', 'B60S 5', 'B60L 53', 'G08C 2201', 'F24D 2101', 'B32B 2457', 'H01L 31', 'H01L 31', 'G16Y 10', 'H01G 9'])\n",
    "out_list = list()\n",
    "\n",
    "for cpc in tqdm_notebook(search_list):\n",
    "    url = 'http://plus.kipris.or.kr/openapi/rest/ClassificationService/searchCPCInfo?codeNumber={cpc}&accessKey={key}'.format(cpc= cpc, key= key)\n",
    "    rq = requests.get(url)\n",
    "    soup = BeautifulSoup(rq.text, 'html.parser')\n",
    "    search_info = soup.find_all('getsearchcpcinfo')\n",
    "\n",
    "    for search in search_info:\n",
    "        section = search.find('section').text\n",
    "        koreanexplanation = search.find('koreanexplanation').text\n",
    "        engDescription = search.find('originaltextexplanation').text\n",
    "\n",
    "        out_list.append([section, koreanexplanation, engDescription])\n",
    "\n",
    "df = pd.DataFrame(out_list, columns= ['CPC', 'Kor_Description', 'Eng_Description'])\n",
    "df.to_csv('./cpc_description.csv', index= False, encoding= 'utf-8-sig')"
   ]
  },
  {
   "cell_type": "code",
   "execution_count": 4,
   "metadata": {},
   "outputs": [],
   "source": [
    "df[\"Kor_Description\"] = df[\"Kor_Description\"].apply(lambda x : x.replace('{', '').replace('}', '').replace('  ', ' ').split('\\n')[0])\n",
    "df[\"Eng_Description\"] = df[\"Eng_Description\"].apply(lambda x : x.replace('{', '').replace('}', '').replace('  ', ' ').split('\\n')[0])\n",
    "\n",
    "df[\"Kor_Description\"] = df[\"Kor_Description\"].apply(lambda x : x.replace('.', '').strip())\n",
    "df[\"Eng_Description\"] = df[\"Eng_Description\"].apply(lambda x : x.replace('.', '').strip())"
   ]
  },
  {
   "cell_type": "code",
   "execution_count": 5,
   "metadata": {},
   "outputs": [
    {
     "name": "stdout",
     "output_type": "stream",
     "text": [
      "<class 'pandas.core.frame.DataFrame'>\n",
      "RangeIndex: 229 entries, 0 to 228\n",
      "Data columns (total 3 columns):\n",
      "CPC                229 non-null object\n",
      "Kor_Description    229 non-null object\n",
      "Eng_Description    229 non-null object\n",
      "dtypes: object(3)\n",
      "memory usage: 5.4+ KB\n"
     ]
    }
   ],
   "source": [
    "df.info()"
   ]
  },
  {
   "cell_type": "code",
   "execution_count": 6,
   "metadata": {},
   "outputs": [],
   "source": [
    "df.to_csv('./cpc_description_final.csv', index= False, encoding= 'utf-8-sig')"
   ]
  }
 ],
 "metadata": {
  "interpreter": {
   "hash": "53a714998b4cda886d88c1f35ca09ebc6db63d3c7248d837ab3cd117369573cd"
  },
  "kernelspec": {
   "display_name": "Python 3.6.5 ('pytorch_p36')",
   "language": "python",
   "name": "python3"
  },
  "language_info": {
   "codemirror_mode": {
    "name": "ipython",
    "version": 3
   },
   "file_extension": ".py",
   "mimetype": "text/x-python",
   "name": "python",
   "nbconvert_exporter": "python",
   "pygments_lexer": "ipython3",
   "version": "3.6.5"
  },
  "orig_nbformat": 4
 },
 "nbformat": 4,
 "nbformat_minor": 2
}
