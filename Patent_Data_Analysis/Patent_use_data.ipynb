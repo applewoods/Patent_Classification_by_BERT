{
 "cells": [
  {
   "cell_type": "code",
   "execution_count": 1,
   "metadata": {},
   "outputs": [],
   "source": [
    "import warnings\n",
    "warnings.filterwarnings('ignore')\n",
    "\n",
    "import pandas as pd"
   ]
  },
  {
   "cell_type": "code",
   "execution_count": 2,
   "metadata": {},
   "outputs": [
    {
     "data": {
      "text/html": [
       "<div>\n",
       "<style scoped>\n",
       "    .dataframe tbody tr th:only-of-type {\n",
       "        vertical-align: middle;\n",
       "    }\n",
       "\n",
       "    .dataframe tbody tr th {\n",
       "        vertical-align: top;\n",
       "    }\n",
       "\n",
       "    .dataframe thead th {\n",
       "        text-align: right;\n",
       "    }\n",
       "</style>\n",
       "<table border=\"1\" class=\"dataframe\">\n",
       "  <thead>\n",
       "    <tr style=\"text-align: right;\">\n",
       "      <th></th>\n",
       "      <th>출원번호</th>\n",
       "      <th>출원일자</th>\n",
       "      <th>발명의명칭(국문)</th>\n",
       "      <th>preprocess_abstract</th>\n",
       "      <th>청구항</th>\n",
       "      <th>cpc코드</th>\n",
       "      <th>ipc코드</th>\n",
       "    </tr>\n",
       "  </thead>\n",
       "  <tbody>\n",
       "    <tr>\n",
       "      <th>0</th>\n",
       "      <td>1019780001915</td>\n",
       "      <td>19780623</td>\n",
       "      <td>용성인비의조립방법</td>\n",
       "      <td>조미료 제조시에 부산물로 얻어지는 발효 폐액과 인산암모니움염의 혼합 현탁액을 이용하...</td>\n",
       "      <td>['분말 용성인비를 조립함에 있어 분말 용성인비 80-95부에 조미료 폐액에 인산 ...</td>\n",
       "      <td>C05B</td>\n",
       "      <td>C05B</td>\n",
       "    </tr>\n",
       "    <tr>\n",
       "      <th>1</th>\n",
       "      <td>1019780003870</td>\n",
       "      <td>19781221</td>\n",
       "      <td>2'4'-디플루오로ㅡ4-히드록시ㅡ3-비페닐카복시산의제조방법</td>\n",
       "      <td>2',4'-디플루오로-4-아세톡시비페닐을 출발물질로하여 2',4'-디플루오로-4-히...</td>\n",
       "      <td>[\"구조식 ( I )로 표시되는 2',4'-디플루오로-4-아세톡시비페닐을 사염화에탄...</td>\n",
       "      <td>C07C</td>\n",
       "      <td>C07C</td>\n",
       "    </tr>\n",
       "    <tr>\n",
       "      <th>2</th>\n",
       "      <td>1019790001504</td>\n",
       "      <td>19790511</td>\n",
       "      <td>음향재생시스템장치</td>\n",
       "      <td>최소의 잔향과 왜곡 현상을 나타내면서 넓은 가청 주파수 영역에서 평탄하고 균일한 특...</td>\n",
       "      <td>['외벽, 혼, 스피커 원추, 저음스피커, 고음스피커로 이루어지는 음향재생장치로서,...</td>\n",
       "      <td>H04R</td>\n",
       "      <td>H04R</td>\n",
       "    </tr>\n",
       "    <tr>\n",
       "      <th>3</th>\n",
       "      <td>1019790002604</td>\n",
       "      <td>19790731</td>\n",
       "      <td>비오염화장실시스템</td>\n",
       "      <td>[청구범위]도면에 도시하고 본문에 상술한 바와 같이, 보울, 일정하게 유수    보...</td>\n",
       "      <td>['도면에 도시하고 본문에 상술한 바와 같이, 보울, 일정하게 유수를 보울로 공급하...</td>\n",
       "      <td>E03D</td>\n",
       "      <td>E03D</td>\n",
       "    </tr>\n",
       "    <tr>\n",
       "      <th>4</th>\n",
       "      <td>1019790003025</td>\n",
       "      <td>19790904</td>\n",
       "      <td>치환된W-아로일(프로피오닐또는부티릴)-L-프로린유도체의제조방법</td>\n",
       "      <td>[목적] 안지오텐신 전환효소를 저해함으로써 안지오텐신 I이 안지오텐신 II로의 전환...</td>\n",
       "      <td>[\"구조식(Ⅱ)의 화합물과 구조식 H-R3인 티올화제의 음이온을 반응시켜 구조식(Ⅲ...</td>\n",
       "      <td>C07D</td>\n",
       "      <td>C07D</td>\n",
       "    </tr>\n",
       "  </tbody>\n",
       "</table>\n",
       "</div>"
      ],
      "text/plain": [
       "            출원번호      출원일자                            발명의명칭(국문)  \\\n",
       "0  1019780001915  19780623                            용성인비의조립방법   \n",
       "1  1019780003870  19781221     2'4'-디플루오로ㅡ4-히드록시ㅡ3-비페닐카복시산의제조방법   \n",
       "2  1019790001504  19790511                            음향재생시스템장치   \n",
       "3  1019790002604  19790731                            비오염화장실시스템   \n",
       "4  1019790003025  19790904   치환된W-아로일(프로피오닐또는부티릴)-L-프로린유도체의제조방법   \n",
       "\n",
       "                                 preprocess_abstract  \\\n",
       "0  조미료 제조시에 부산물로 얻어지는 발효 폐액과 인산암모니움염의 혼합 현탁액을 이용하...   \n",
       "1  2',4'-디플루오로-4-아세톡시비페닐을 출발물질로하여 2',4'-디플루오로-4-히...   \n",
       "2  최소의 잔향과 왜곡 현상을 나타내면서 넓은 가청 주파수 영역에서 평탄하고 균일한 특...   \n",
       "3  [청구범위]도면에 도시하고 본문에 상술한 바와 같이, 보울, 일정하게 유수    보...   \n",
       "4  [목적] 안지오텐신 전환효소를 저해함으로써 안지오텐신 I이 안지오텐신 II로의 전환...   \n",
       "\n",
       "                                                 청구항 cpc코드 ipc코드  \n",
       "0  ['분말 용성인비를 조립함에 있어 분말 용성인비 80-95부에 조미료 폐액에 인산 ...  C05B  C05B  \n",
       "1  [\"구조식 ( I )로 표시되는 2',4'-디플루오로-4-아세톡시비페닐을 사염화에탄...  C07C  C07C  \n",
       "2  ['외벽, 혼, 스피커 원추, 저음스피커, 고음스피커로 이루어지는 음향재생장치로서,...  H04R  H04R  \n",
       "3  ['도면에 도시하고 본문에 상술한 바와 같이, 보울, 일정하게 유수를 보울로 공급하...  E03D  E03D  \n",
       "4  [\"구조식(Ⅱ)의 화합물과 구조식 H-R3인 티올화제의 음이온을 반응시켜 구조식(Ⅲ...  C07D  C07D  "
      ]
     },
     "execution_count": 2,
     "metadata": {},
     "output_type": "execute_result"
    }
   ],
   "source": [
    "df = pd.read_csv('../Data/Use_Data/BERT_Classification_Data.csv')\n",
    "df.head()"
   ]
  },
  {
   "cell_type": "code",
   "execution_count": 3,
   "metadata": {},
   "outputs": [
    {
     "name": "stdout",
     "output_type": "stream",
     "text": [
      "<class 'pandas.core.frame.DataFrame'>\n",
      "RangeIndex: 3592002 entries, 0 to 3592001\n",
      "Data columns (total 8 columns):\n",
      "출원번호                   int64\n",
      "출원일자                   int64\n",
      "발명의명칭(국문)              object\n",
      "preprocess_abstract    object\n",
      "청구항                    object\n",
      "cpc코드                  object\n",
      "ipc코드                  object\n",
      "YEAR                   int64\n",
      "dtypes: int64(3), object(5)\n",
      "memory usage: 219.2+ MB\n"
     ]
    }
   ],
   "source": [
    "df['YEAR'] = df['출원일자'].apply(lambda x : int(str(x)[:4]))\n",
    "df.info()"
   ]
  },
  {
   "cell_type": "code",
   "execution_count": 4,
   "metadata": {},
   "outputs": [
    {
     "data": {
      "text/html": [
       "<div>\n",
       "<style scoped>\n",
       "    .dataframe tbody tr th:only-of-type {\n",
       "        vertical-align: middle;\n",
       "    }\n",
       "\n",
       "    .dataframe tbody tr th {\n",
       "        vertical-align: top;\n",
       "    }\n",
       "\n",
       "    .dataframe thead th {\n",
       "        text-align: right;\n",
       "    }\n",
       "</style>\n",
       "<table border=\"1\" class=\"dataframe\">\n",
       "  <thead>\n",
       "    <tr style=\"text-align: right;\">\n",
       "      <th></th>\n",
       "      <th>출원번호</th>\n",
       "      <th>출원일자</th>\n",
       "      <th>발명의명칭(국문)</th>\n",
       "      <th>preprocess_abstract</th>\n",
       "      <th>청구항</th>\n",
       "      <th>cpc코드</th>\n",
       "      <th>ipc코드</th>\n",
       "      <th>YEAR</th>\n",
       "    </tr>\n",
       "  </thead>\n",
       "  <tbody>\n",
       "    <tr>\n",
       "      <th>2012429</th>\n",
       "      <td>1020150000001</td>\n",
       "      <td>20150101</td>\n",
       "      <td>소금 마스크</td>\n",
       "      <td>본 발명은 소금 마스크에 관한 것으로, 더욱 상세하게는 마스크에 소금을 구비하여 외...</td>\n",
       "      <td>['호흡기를 가리는 본체(10)에 소금(30)을 구비한 소금 마스크에 있어서,상기 ...</td>\n",
       "      <td>A62B</td>\n",
       "      <td>A62B</td>\n",
       "      <td>2015</td>\n",
       "    </tr>\n",
       "    <tr>\n",
       "      <th>2012430</th>\n",
       "      <td>1020150000004</td>\n",
       "      <td>20150101</td>\n",
       "      <td>접이식 침대 등받이</td>\n",
       "      <td>본 발명은 변형 기능을 가진 침대 등받이에 관한 것으로, 더욱 상세 하게는 등받이에...</td>\n",
       "      <td>['위치를 자유롭게 이동시키고 등받이의 모양을 자유롭게 변형시켜 편하게 해주는 침대...</td>\n",
       "      <td>A47C</td>\n",
       "      <td>A47C</td>\n",
       "      <td>2015</td>\n",
       "    </tr>\n",
       "    <tr>\n",
       "      <th>2012431</th>\n",
       "      <td>1020150000007</td>\n",
       "      <td>20150101</td>\n",
       "      <td>무촉매 기판 성장 그래핀의 제조방법 및 무촉매 기판 성장 그래핀</td>\n",
       "      <td>본 발명은, a. 기판에 무촉매층 구비 그 이후, b. 에칭 가스 및 탄소-포함 가...</td>\n",
       "      <td>['a. 기판에 무촉매층 구비 그 이후, b. 에칭 가스 및 탄소-포함 가스를 공급...</td>\n",
       "      <td>C01B</td>\n",
       "      <td>C01B</td>\n",
       "      <td>2015</td>\n",
       "    </tr>\n",
       "    <tr>\n",
       "      <th>2012432</th>\n",
       "      <td>1020150000008</td>\n",
       "      <td>20150101</td>\n",
       "      <td>가스보일러 안전기능형 배기통</td>\n",
       "      <td>본 발명의 가스보일러 안전기능형 배기통은, 가스보일러 배기통과 가스보일러 접속부 및...</td>\n",
       "      <td>['가스를 연료로 사용하는 보일러와;       가스보일러 배기통과 상기 가스보일러...</td>\n",
       "      <td>F23J</td>\n",
       "      <td>F23J</td>\n",
       "      <td>2015</td>\n",
       "    </tr>\n",
       "    <tr>\n",
       "      <th>2012433</th>\n",
       "      <td>1020150000011</td>\n",
       "      <td>20150101</td>\n",
       "      <td>에너지 재활용 자동차 발전시스템</td>\n",
       "      <td>본 발명은 자동차가 주행 중일 때 회전운동에너지가 전기에너지로 변환되지 못하고 손실...</td>\n",
       "      <td>['에너지 재활용 자동차 발전시스템(1)에 있어서, 자동차가 주행중일 때 발전장치(...</td>\n",
       "      <td>B60L</td>\n",
       "      <td>B60L</td>\n",
       "      <td>2015</td>\n",
       "    </tr>\n",
       "  </tbody>\n",
       "</table>\n",
       "</div>"
      ],
      "text/plain": [
       "                  출원번호      출원일자                            발명의명칭(국문)  \\\n",
       "2012429  1020150000001  20150101                               소금 마스크   \n",
       "2012430  1020150000004  20150101                           접이식 침대 등받이   \n",
       "2012431  1020150000007  20150101  무촉매 기판 성장 그래핀의 제조방법 및 무촉매 기판 성장 그래핀   \n",
       "2012432  1020150000008  20150101                      가스보일러 안전기능형 배기통   \n",
       "2012433  1020150000011  20150101                    에너지 재활용 자동차 발전시스템   \n",
       "\n",
       "                                       preprocess_abstract  \\\n",
       "2012429  본 발명은 소금 마스크에 관한 것으로, 더욱 상세하게는 마스크에 소금을 구비하여 외...   \n",
       "2012430  본 발명은 변형 기능을 가진 침대 등받이에 관한 것으로, 더욱 상세 하게는 등받이에...   \n",
       "2012431  본 발명은, a. 기판에 무촉매층 구비 그 이후, b. 에칭 가스 및 탄소-포함 가...   \n",
       "2012432  본 발명의 가스보일러 안전기능형 배기통은, 가스보일러 배기통과 가스보일러 접속부 및...   \n",
       "2012433  본 발명은 자동차가 주행 중일 때 회전운동에너지가 전기에너지로 변환되지 못하고 손실...   \n",
       "\n",
       "                                                       청구항 cpc코드 ipc코드  YEAR  \n",
       "2012429  ['호흡기를 가리는 본체(10)에 소금(30)을 구비한 소금 마스크에 있어서,상기 ...  A62B  A62B  2015  \n",
       "2012430  ['위치를 자유롭게 이동시키고 등받이의 모양을 자유롭게 변형시켜 편하게 해주는 침대...  A47C  A47C  2015  \n",
       "2012431  ['a. 기판에 무촉매층 구비 그 이후, b. 에칭 가스 및 탄소-포함 가스를 공급...  C01B  C01B  2015  \n",
       "2012432  ['가스를 연료로 사용하는 보일러와;       가스보일러 배기통과 상기 가스보일러...  F23J  F23J  2015  \n",
       "2012433  ['에너지 재활용 자동차 발전시스템(1)에 있어서, 자동차가 주행중일 때 발전장치(...  B60L  B60L  2015  "
      ]
     },
     "execution_count": 4,
     "metadata": {},
     "output_type": "execute_result"
    }
   ],
   "source": [
    "new_df = df[df['YEAR'] >= 2015]\n",
    "new_df.head()"
   ]
  },
  {
   "cell_type": "code",
   "execution_count": 5,
   "metadata": {},
   "outputs": [
    {
     "data": {
      "text/html": [
       "<div>\n",
       "<style scoped>\n",
       "    .dataframe tbody tr th:only-of-type {\n",
       "        vertical-align: middle;\n",
       "    }\n",
       "\n",
       "    .dataframe tbody tr th {\n",
       "        vertical-align: top;\n",
       "    }\n",
       "\n",
       "    .dataframe thead th {\n",
       "        text-align: right;\n",
       "    }\n",
       "</style>\n",
       "<table border=\"1\" class=\"dataframe\">\n",
       "  <thead>\n",
       "    <tr style=\"text-align: right;\">\n",
       "      <th></th>\n",
       "      <th>출원번호</th>\n",
       "      <th>출원일자</th>\n",
       "      <th>발명의명칭(국문)</th>\n",
       "      <th>preprocess_abstract</th>\n",
       "      <th>청구항</th>\n",
       "      <th>cpc코드</th>\n",
       "      <th>ipc코드</th>\n",
       "      <th>YEAR</th>\n",
       "      <th>is_use</th>\n",
       "    </tr>\n",
       "  </thead>\n",
       "  <tbody>\n",
       "    <tr>\n",
       "      <th>2012433</th>\n",
       "      <td>1020150000011</td>\n",
       "      <td>20150101</td>\n",
       "      <td>에너지 재활용 자동차 발전시스템</td>\n",
       "      <td>본 발명은 자동차가 주행 중일 때 회전운동에너지가 전기에너지로 변환되지 못하고 손실...</td>\n",
       "      <td>['에너지 재활용 자동차 발전시스템(1)에 있어서, 자동차가 주행중일 때 발전장치(...</td>\n",
       "      <td>B60L</td>\n",
       "      <td>B60L</td>\n",
       "      <td>2015</td>\n",
       "      <td>1</td>\n",
       "    </tr>\n",
       "    <tr>\n",
       "      <th>2012441</th>\n",
       "      <td>1020150000023</td>\n",
       "      <td>20150102</td>\n",
       "      <td>차량용 가죽시트 커버</td>\n",
       "      <td>본 발명은 탄성 부재 및 가죽 원단이 접착제층에 의해 결합된 적층 구조를 가지는 차...</td>\n",
       "      <td>['탄성 부재 및 가죽 원단이 접착제층에 의해 결합된 적층 구조를 가지고,상기 탄성...</td>\n",
       "      <td>B32B</td>\n",
       "      <td>B32B</td>\n",
       "      <td>2015</td>\n",
       "      <td>1</td>\n",
       "    </tr>\n",
       "    <tr>\n",
       "      <th>2012444</th>\n",
       "      <td>1020150000026</td>\n",
       "      <td>20150102</td>\n",
       "      <td>렌즈 삽입부 내에 접합 홈을 구비하는 칩 기판</td>\n",
       "      <td>본 발명은 칩 기판에 관한 것으로, 본 발명에 따른 칩 기판은수평 방향으로 적층되어...</td>\n",
       "      <td>['수평 방향으로 적층되어 칩 기판을 구성하는 복수의 전도층;상기 전도층과 교호로 ...</td>\n",
       "      <td>H01L</td>\n",
       "      <td>H01L</td>\n",
       "      <td>2015</td>\n",
       "      <td>1</td>\n",
       "    </tr>\n",
       "    <tr>\n",
       "      <th>2012472</th>\n",
       "      <td>1020150000064</td>\n",
       "      <td>20150102</td>\n",
       "      <td>습식 및 건식 식각공정을 이용한 압저항형 압력센서 제조방법</td>\n",
       "      <td>본 발명은 압저항형 압력센서(piezoresistive pressure sensor...</td>\n",
       "      <td>['압저항형 압력센서 제조방법에 있어서, SOI 웨이퍼(wafer)를 준비하는 단계...</td>\n",
       "      <td>H01L</td>\n",
       "      <td>H01L</td>\n",
       "      <td>2015</td>\n",
       "      <td>1</td>\n",
       "    </tr>\n",
       "    <tr>\n",
       "      <th>2012473</th>\n",
       "      <td>1020150000065</td>\n",
       "      <td>20150102</td>\n",
       "      <td>반도체 패키지</td>\n",
       "      <td>본 발명의 실시예에 따른 반도체 패키지는 반도체 칩, 상기 반도체 칩의 일측에 배치...</td>\n",
       "      <td>['반도체 칩;상기 반도체 칩의 일측에 배치된 연결장치;상기 반도체 칩의 하부면 및...</td>\n",
       "      <td>H01L</td>\n",
       "      <td>H01L</td>\n",
       "      <td>2015</td>\n",
       "      <td>1</td>\n",
       "    </tr>\n",
       "  </tbody>\n",
       "</table>\n",
       "</div>"
      ],
      "text/plain": [
       "                  출원번호      출원일자                         발명의명칭(국문)  \\\n",
       "2012433  1020150000011  20150101                 에너지 재활용 자동차 발전시스템   \n",
       "2012441  1020150000023  20150102                       차량용 가죽시트 커버   \n",
       "2012444  1020150000026  20150102         렌즈 삽입부 내에 접합 홈을 구비하는 칩 기판   \n",
       "2012472  1020150000064  20150102  습식 및 건식 식각공정을 이용한 압저항형 압력센서 제조방법   \n",
       "2012473  1020150000065  20150102                           반도체 패키지   \n",
       "\n",
       "                                       preprocess_abstract  \\\n",
       "2012433  본 발명은 자동차가 주행 중일 때 회전운동에너지가 전기에너지로 변환되지 못하고 손실...   \n",
       "2012441  본 발명은 탄성 부재 및 가죽 원단이 접착제층에 의해 결합된 적층 구조를 가지는 차...   \n",
       "2012444  본 발명은 칩 기판에 관한 것으로, 본 발명에 따른 칩 기판은수평 방향으로 적층되어...   \n",
       "2012472  본 발명은 압저항형 압력센서(piezoresistive pressure sensor...   \n",
       "2012473  본 발명의 실시예에 따른 반도체 패키지는 반도체 칩, 상기 반도체 칩의 일측에 배치...   \n",
       "\n",
       "                                                       청구항 cpc코드 ipc코드  YEAR  \\\n",
       "2012433  ['에너지 재활용 자동차 발전시스템(1)에 있어서, 자동차가 주행중일 때 발전장치(...  B60L  B60L  2015   \n",
       "2012441  ['탄성 부재 및 가죽 원단이 접착제층에 의해 결합된 적층 구조를 가지고,상기 탄성...  B32B  B32B  2015   \n",
       "2012444  ['수평 방향으로 적층되어 칩 기판을 구성하는 복수의 전도층;상기 전도층과 교호로 ...  H01L  H01L  2015   \n",
       "2012472  ['압저항형 압력센서 제조방법에 있어서, SOI 웨이퍼(wafer)를 준비하는 단계...  H01L  H01L  2015   \n",
       "2012473  ['반도체 칩;상기 반도체 칩의 일측에 배치된 연결장치;상기 반도체 칩의 하부면 및...  H01L  H01L  2015   \n",
       "\n",
       "         is_use  \n",
       "2012433       1  \n",
       "2012441       1  \n",
       "2012444       1  \n",
       "2012472       1  \n",
       "2012473       1  "
      ]
     },
     "execution_count": 5,
     "metadata": {},
     "output_type": "execute_result"
    }
   ],
   "source": [
    "search_list = set(['Y10S', 'Y10S', 'Y02E', 'F28D', 'B60S', 'B60L', 'G08C', 'F24D', 'B32B', 'H01L', 'H01L', 'G16Y', 'H01G'])\n",
    "new_df['is_use'] = new_df['cpc코드'].apply(lambda x: 1 if x in search_list else 0)\n",
    "u_new_df = new_df[new_df['is_use'] == 1]\n",
    "u_new_df.head()"
   ]
  },
  {
   "cell_type": "code",
   "execution_count": 6,
   "metadata": {},
   "outputs": [
    {
     "name": "stdout",
     "output_type": "stream",
     "text": [
      "<class 'pandas.core.frame.DataFrame'>\n",
      "Int64Index: 64320 entries, 2012433 to 3591989\n",
      "Data columns (total 9 columns):\n",
      "출원번호                   64320 non-null int64\n",
      "출원일자                   64320 non-null int64\n",
      "발명의명칭(국문)              64320 non-null object\n",
      "preprocess_abstract    64320 non-null object\n",
      "청구항                    64320 non-null object\n",
      "cpc코드                  64320 non-null object\n",
      "ipc코드                  64320 non-null object\n",
      "YEAR                   64320 non-null int64\n",
      "is_use                 64320 non-null int64\n",
      "dtypes: int64(4), object(5)\n",
      "memory usage: 4.9+ MB\n"
     ]
    }
   ],
   "source": [
    "u_new_df.info()"
   ]
  },
  {
   "cell_type": "code",
   "execution_count": 7,
   "metadata": {},
   "outputs": [
    {
     "name": "stdout",
     "output_type": "stream",
     "text": [
      "<class 'pandas.core.frame.DataFrame'>\n",
      "Int64Index: 963138 entries, 2012429 to 3592001\n",
      "Data columns (total 9 columns):\n",
      "출원번호                   963138 non-null int64\n",
      "출원일자                   963138 non-null int64\n",
      "발명의명칭(국문)              963138 non-null object\n",
      "preprocess_abstract    963138 non-null object\n",
      "청구항                    963138 non-null object\n",
      "cpc코드                  963138 non-null object\n",
      "ipc코드                  963138 non-null object\n",
      "YEAR                   963138 non-null int64\n",
      "is_use                 963138 non-null int64\n",
      "dtypes: int64(4), object(5)\n",
      "memory usage: 73.5+ MB\n"
     ]
    }
   ],
   "source": [
    "new_df.info()"
   ]
  },
  {
   "cell_type": "code",
   "execution_count": 8,
   "metadata": {},
   "outputs": [
    {
     "data": {
      "text/plain": [
       "H01L    49118\n",
       "B32B     6629\n",
       "B60L     3541\n",
       "H01G     2200\n",
       "F24D      919\n",
       "F28D      834\n",
       "B60S      750\n",
       "G08C      329\n",
       "Name: cpc코드, dtype: int64"
      ]
     },
     "execution_count": 8,
     "metadata": {},
     "output_type": "execute_result"
    }
   ],
   "source": [
    "u_new_df['cpc코드'].value_counts()"
   ]
  },
  {
   "cell_type": "code",
   "execution_count": 9,
   "metadata": {},
   "outputs": [
    {
     "data": {
      "text/plain": [
       "<Figure size 640x480 with 1 Axes>"
      ]
     },
     "metadata": {},
     "output_type": "display_data"
    }
   ],
   "source": [
    "import matplotlib.pyplot as plt\n",
    "import numpy as np\n",
    "\n",
    "y = np.arange(8)\n",
    "# years = ['2018', '2019', '2020']\n",
    "# values = [100, 400, 900]\n",
    "\n",
    "years = u_new_df['cpc코드'].value_counts().index.to_list()[::-1]\n",
    "values = list(u_new_df['cpc코드'].value_counts().values[::-1])\n",
    "\n",
    "plt.barh(y, values)\n",
    "plt.yticks(y, years)\n",
    "plt.grid(True, axis= 'x', alpha=0.5, linestyle='--', color='gainsboro')\n",
    "\n",
    "plt.show()"
   ]
  },
  {
   "cell_type": "code",
   "execution_count": null,
   "metadata": {},
   "outputs": [],
   "source": []
  },
  {
   "cell_type": "code",
   "execution_count": 10,
   "metadata": {},
   "outputs": [],
   "source": [
    "from sklearn.model_selection import train_test_split"
   ]
  },
  {
   "cell_type": "code",
   "execution_count": 11,
   "metadata": {},
   "outputs": [],
   "source": [
    "X = u_new_df['출원번호'].to_list()\n",
    "y = u_new_df['cpc코드'].to_list()"
   ]
  },
  {
   "cell_type": "code",
   "execution_count": 12,
   "metadata": {},
   "outputs": [],
   "source": [
    "X_train, X_test, y_train, y_test = train_test_split(X, y, test_size=0.33, random_state=42)"
   ]
  },
  {
   "cell_type": "code",
   "execution_count": 13,
   "metadata": {},
   "outputs": [
    {
     "data": {
      "image/png": "[encoded data removed]",
      "text/plain": [
       "<Figure size 432x288 with 1 Axes>"
      ]
     },
     "metadata": {},
     "output_type": "display_data"
    }
   ],
   "source": [
    "import matplotlib.pyplot as plt\n",
    "import numpy as np\n",
    "\n",
    "dd = [[x, y] for x, y in zip(X_train, y_train)]\n",
    "ddf = pd.DataFrame(dd, columns=['x_train', 'y_train'])\n",
    "\n",
    "y = np.arange(8)\n",
    "# years = ['2018', '2019', '2020']\n",
    "# values = [100, 400, 900]\n",
    "\n",
    "# years = u_new_df['cpc코드'].value_counts().index.to_list()[::-1]\n",
    "# values = list(u_new_df['cpc코드'].value_counts().values[::-1])\n",
    "\n",
    "years = ddf['y_train'].value_counts().index.to_list()[::-1]\n",
    "values = list(ddf['y_train'].value_counts().values[::-1])\n",
    "\n",
    "plt.barh(y, values)\n",
    "plt.yticks(y, years)\n",
    "plt.grid(True, axis= 'x', alpha=0.5, linestyle='--', color='gainsboro')\n",
    "\n",
    "plt.show()"
   ]
  },
  {
   "cell_type": "code",
   "execution_count": 14,
   "metadata": {},
   "outputs": [
    {
     "data": {
      "image/png": "[encoded data removed]",
      "text/plain": [
       "<Figure size 432x288 with 1 Axes>"
      ]
     },
     "metadata": {},
     "output_type": "display_data"
    }
   ],
   "source": [
    "import matplotlib.pyplot as plt\n",
    "import numpy as np\n",
    "\n",
    "dd = [[x, y] for x, y in zip(X_test, y_test)]\n",
    "ddf = pd.DataFrame(dd, columns=['X_test', 'y_test'])\n",
    "\n",
    "y = np.arange(8)\n",
    "# years = ['2018', '2019', '2020']\n",
    "# values = [100, 400, 900]\n",
    "\n",
    "# years = u_new_df['cpc코드'].value_counts().index.to_list()[::-1]\n",
    "# values = list(u_new_df['cpc코드'].value_counts().values[::-1])\n",
    "\n",
    "years = ddf['y_test'].value_counts().index.to_list()[::-1]\n",
    "values = list(ddf['y_test'].value_counts().values[::-1])\n",
    "\n",
    "plt.barh(y, values)\n",
    "plt.yticks(y, years)\n",
    "plt.grid(True, axis= 'x', alpha=0.5, linestyle='--', color='gainsboro')\n",
    "plt.legend(labels='test_data')\n",
    "\n",
    "plt.show()"
   ]
  },
  {
   "cell_type": "code",
   "execution_count": 15,
   "metadata": {},
   "outputs": [
    {
     "data": {
      "text/plain": [
       "H01L    16236\n",
       "B32B     2177\n",
       "B60L     1158\n",
       "H01G      722\n",
       "F24D      296\n",
       "F28D      266\n",
       "B60S      251\n",
       "G08C      120\n",
       "Name: y_test, dtype: int64"
      ]
     },
     "execution_count": 15,
     "metadata": {},
     "output_type": "execute_result"
    }
   ],
   "source": [
    "ddf['y_test'].value_counts()"
   ]
  },
  {
   "cell_type": "code",
   "execution_count": null,
   "metadata": {},
   "outputs": [],
   "source": []
  }
 ],
 "metadata": {
  "interpreter": {
   "hash": "53a714998b4cda886d88c1f35ca09ebc6db63d3c7248d837ab3cd117369573cd"
  },
  "kernelspec": {
   "display_name": "Python 3.6.5 ('pytorch_p36')",
   "language": "python",
   "name": "python3"
  },
  "language_info": {
   "codemirror_mode": {
    "name": "ipython",
    "version": 3
   },
   "file_extension": ".py",
   "mimetype": "text/x-python",
   "name": "python",
   "nbconvert_exporter": "python",
   "pygments_lexer": "ipython3",
   "version": "3.6.5"
  },
  "orig_nbformat": 4
 },
 "nbformat": 4,
 "nbformat_minor": 2
}
