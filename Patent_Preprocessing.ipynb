{
 "cells": [
  {
   "cell_type": "code",
   "execution_count": 2,
   "metadata": {},
   "outputs": [
    {
     "data": {
      "text/plain": [
       "131072"
      ]
     },
     "execution_count": 2,
     "metadata": {},
     "output_type": "execute_result"
    }
   ],
   "source": [
    "import warnings\n",
    "warnings.filterwarnings('ignore')\n",
    "\n",
    "import os\n",
    "import pandas as pd\n",
    "import numpy as np\n",
    "import re\n",
    "\n",
    "from tqdm.notebook import tqdm\n",
    "tqdm.pandas()\n",
    "\n",
    "import matplotlib.pyplot as plt\n",
    "import seaborn as sns\n",
    "\n",
    "import sys\n",
    "import csv\n",
    "csv.field_size_limit(sys.maxsize)"
   ]
  },
  {
   "cell_type": "markdown",
   "metadata": {},
   "source": [
    "## 01 데이터 수집\n",
    "#### 01 - 01 청구항"
   ]
  },
  {
   "cell_type": "code",
   "execution_count": 3,
   "metadata": {},
   "outputs": [
    {
     "data": {
      "text/html": [
       "<div>\n",
       "<style scoped>\n",
       "    .dataframe tbody tr th:only-of-type {\n",
       "        vertical-align: middle;\n",
       "    }\n",
       "\n",
       "    .dataframe tbody tr th {\n",
       "        vertical-align: top;\n",
       "    }\n",
       "\n",
       "    .dataframe thead th {\n",
       "        text-align: right;\n",
       "    }\n",
       "</style>\n",
       "<table border=\"1\" class=\"dataframe\">\n",
       "  <thead>\n",
       "    <tr style=\"text-align: right;\">\n",
       "      <th></th>\n",
       "      <th>출원번호</th>\n",
       "      <th>청구항</th>\n",
       "    </tr>\n",
       "  </thead>\n",
       "  <tbody>\n",
       "    <tr>\n",
       "      <th>0</th>\n",
       "      <td>1009880005252</td>\n",
       "      <td>&lt;SDOCL&gt;&lt;CLAIM N=1&gt;&lt;P&gt;황화수소를 포함하는 제1가스 스트림을 제1연소...</td>\n",
       "    </tr>\n",
       "    <tr>\n",
       "      <th>1</th>\n",
       "      <td>1009890015702</td>\n",
       "      <td>&lt;SDOCL&gt;&lt;CLAIM N=1&gt;&lt;P&gt;경사지게 형성한 활주면과, 이 활주면 위를 활...</td>\n",
       "    </tr>\n",
       "    <tr>\n",
       "      <th>2</th>\n",
       "      <td>1009940008104</td>\n",
       "      <td>&lt;SDOCL&gt;&lt;CLAIM N=1&gt;&lt;P&gt;내부 전원과 외부로부터 전력을 공급받는 외부 ...</td>\n",
       "    </tr>\n",
       "    <tr>\n",
       "      <th>3</th>\n",
       "      <td>1011920014920</td>\n",
       "      <td>&lt;SDOCL&gt;&lt;CLAIM N=1&gt;&lt;P&gt;전원전압의 변화량을 감지하도록 한 전원전압감지...</td>\n",
       "    </tr>\n",
       "    <tr>\n",
       "      <th>4</th>\n",
       "      <td>1018830001360</td>\n",
       "      <td>&lt;SDOCL&gt;&lt;CLAIM N=1&gt;&lt;P&gt;방사 펄스가 단위 기록 마크를 기록 캐리어상에...</td>\n",
       "    </tr>\n",
       "  </tbody>\n",
       "</table>\n",
       "</div>"
      ],
      "text/plain": [
       "            출원번호                                                청구항\n",
       "0  1009880005252  <SDOCL><CLAIM N=1><P>황화수소를 포함하는 제1가스 스트림을 제1연소...\n",
       "1  1009890015702  <SDOCL><CLAIM N=1><P>경사지게 형성한 활주면과, 이 활주면 위를 활...\n",
       "2  1009940008104  <SDOCL><CLAIM N=1><P>내부 전원과 외부로부터 전력을 공급받는 외부 ...\n",
       "3  1011920014920  <SDOCL><CLAIM N=1><P>전원전압의 변화량을 감지하도록 한 전원전압감지...\n",
       "4  1018830001360  <SDOCL><CLAIM N=1><P>방사 펄스가 단위 기록 마크를 기록 캐리어상에..."
      ]
     },
     "execution_count": 3,
     "metadata": {},
     "output_type": "execute_result"
    }
   ],
   "source": [
    "PATH = './Data/Raw/'\n",
    "claim_df = pd.read_csv(PATH + 'Claim.txt', sep='¶')\n",
    "claim_df.head()"
   ]
  },
  {
   "cell_type": "code",
   "execution_count": 4,
   "metadata": {},
   "outputs": [],
   "source": [
    "def clean_claim(data):\n",
    "    final_data = list()\n",
    "    new_data = data.split('</CLAIM>')\n",
    "\n",
    "    for d in new_data:\n",
    "        final = re.sub(r'\\<[^>]*\\>', '', d).strip()\n",
    "        final_data.append(final)\n",
    "\n",
    "    return final_data"
   ]
  },
  {
   "cell_type": "code",
   "execution_count": 5,
   "metadata": {},
   "outputs": [
    {
     "data": {
      "application/vnd.jupyter.widget-view+json": {
       "model_id": "311350008e4e48deb0c688ad86874afd",
       "version_major": 2,
       "version_minor": 0
      },
      "text/plain": [
       "  0%|          | 0/4695921 [00:00<?, ?it/s]"
      ]
     },
     "metadata": {},
     "output_type": "display_data"
    },
    {
     "data": {
      "text/html": [
       "<div>\n",
       "<style scoped>\n",
       "    .dataframe tbody tr th:only-of-type {\n",
       "        vertical-align: middle;\n",
       "    }\n",
       "\n",
       "    .dataframe tbody tr th {\n",
       "        vertical-align: top;\n",
       "    }\n",
       "\n",
       "    .dataframe thead th {\n",
       "        text-align: right;\n",
       "    }\n",
       "</style>\n",
       "<table border=\"1\" class=\"dataframe\">\n",
       "  <thead>\n",
       "    <tr style=\"text-align: right;\">\n",
       "      <th></th>\n",
       "      <th>출원번호</th>\n",
       "      <th>청구항</th>\n",
       "    </tr>\n",
       "  </thead>\n",
       "  <tbody>\n",
       "    <tr>\n",
       "      <th>0</th>\n",
       "      <td>1009880005252</td>\n",
       "      <td>[황화수소를 포함하는 제1가스 스트림을 제1연소대역속으로 통과시켜서 그 속에서 이 ...</td>\n",
       "    </tr>\n",
       "    <tr>\n",
       "      <th>1</th>\n",
       "      <td>1009890015702</td>\n",
       "      <td>[경사지게 형성한 활주면과, 이 활주면 위를 활주하는 활주체와, 상기 활주면에 배설...</td>\n",
       "    </tr>\n",
       "    <tr>\n",
       "      <th>2</th>\n",
       "      <td>1009940008104</td>\n",
       "      <td>[내부 전원과 외부로부터 전력을 공급받는 외부 전원을 선택하여 주전원으로 사용할 수...</td>\n",
       "    </tr>\n",
       "    <tr>\n",
       "      <th>3</th>\n",
       "      <td>1011920014920</td>\n",
       "      <td>[전원전압의 변화량을 감지하도록 한 전원전압감지입력부(33)와, 상기 전원전압감지입...</td>\n",
       "    </tr>\n",
       "    <tr>\n",
       "      <th>4</th>\n",
       "      <td>1018830001360</td>\n",
       "      <td>[방사 펄스가 단위 기록 마크를 기록 캐리어상에 형성되도록 하는 에너지를 갖고 있으...</td>\n",
       "    </tr>\n",
       "  </tbody>\n",
       "</table>\n",
       "</div>"
      ],
      "text/plain": [
       "            출원번호                                                청구항\n",
       "0  1009880005252  [황화수소를 포함하는 제1가스 스트림을 제1연소대역속으로 통과시켜서 그 속에서 이 ...\n",
       "1  1009890015702  [경사지게 형성한 활주면과, 이 활주면 위를 활주하는 활주체와, 상기 활주면에 배설...\n",
       "2  1009940008104  [내부 전원과 외부로부터 전력을 공급받는 외부 전원을 선택하여 주전원으로 사용할 수...\n",
       "3  1011920014920  [전원전압의 변화량을 감지하도록 한 전원전압감지입력부(33)와, 상기 전원전압감지입...\n",
       "4  1018830001360  [방사 펄스가 단위 기록 마크를 기록 캐리어상에 형성되도록 하는 에너지를 갖고 있으..."
      ]
     },
     "execution_count": 5,
     "metadata": {},
     "output_type": "execute_result"
    }
   ],
   "source": [
    "claim_df['청구항'] = claim_df['청구항'].progress_apply(clean_claim)\n",
    "claim_df.head()"
   ]
  },
  {
   "cell_type": "code",
   "execution_count": 6,
   "metadata": {},
   "outputs": [],
   "source": [
    "claim_df.to_csv('./Data/Preprocessing/Claim.csv', index= False, encoding= 'utf-8-sig')"
   ]
  },
  {
   "cell_type": "markdown",
   "metadata": {},
   "source": [
    "#### 01 - 02 CPC(Cooperate Patent Classification)"
   ]
  },
  {
   "cell_type": "code",
   "execution_count": 7,
   "metadata": {},
   "outputs": [
    {
     "data": {
      "text/html": [
       "<div>\n",
       "<style scoped>\n",
       "    .dataframe tbody tr th:only-of-type {\n",
       "        vertical-align: middle;\n",
       "    }\n",
       "\n",
       "    .dataframe tbody tr th {\n",
       "        vertical-align: top;\n",
       "    }\n",
       "\n",
       "    .dataframe thead th {\n",
       "        text-align: right;\n",
       "    }\n",
       "</style>\n",
       "<table border=\"1\" class=\"dataframe\">\n",
       "  <thead>\n",
       "    <tr style=\"text-align: right;\">\n",
       "      <th></th>\n",
       "      <th>출원번호</th>\n",
       "      <th>특허분류일련번호</th>\n",
       "      <th>cpc코드</th>\n",
       "      <th>cpc개정일자</th>\n",
       "    </tr>\n",
       "  </thead>\n",
       "  <tbody>\n",
       "    <tr>\n",
       "      <th>0</th>\n",
       "      <td>1019470000003</td>\n",
       "      <td>1</td>\n",
       "      <td>C21B 15/00</td>\n",
       "      <td>(2013.01)</td>\n",
       "    </tr>\n",
       "    <tr>\n",
       "      <th>1</th>\n",
       "      <td>1019470000187</td>\n",
       "      <td>1</td>\n",
       "      <td>C01G 21/12</td>\n",
       "      <td>(2013.01)</td>\n",
       "    </tr>\n",
       "    <tr>\n",
       "      <th>2</th>\n",
       "      <td>1019470000188</td>\n",
       "      <td>1</td>\n",
       "      <td>C09C 1/00</td>\n",
       "      <td>(2013.01)</td>\n",
       "    </tr>\n",
       "    <tr>\n",
       "      <th>3</th>\n",
       "      <td>1019470000200</td>\n",
       "      <td>1</td>\n",
       "      <td>A23L 11/20</td>\n",
       "      <td>(2013.01)</td>\n",
       "    </tr>\n",
       "    <tr>\n",
       "      <th>4</th>\n",
       "      <td>1019470000200</td>\n",
       "      <td>2</td>\n",
       "      <td>A23L 5/43</td>\n",
       "      <td>(2013.01)</td>\n",
       "    </tr>\n",
       "  </tbody>\n",
       "</table>\n",
       "</div>"
      ],
      "text/plain": [
       "            출원번호  특허분류일련번호       cpc코드    cpc개정일자\n",
       "0  1019470000003         1  C21B 15/00  (2013.01)\n",
       "1  1019470000187         1  C01G 21/12  (2013.01)\n",
       "2  1019470000188         1   C09C 1/00  (2013.01)\n",
       "3  1019470000200         1  A23L 11/20  (2013.01)\n",
       "4  1019470000200         2   A23L 5/43  (2013.01)"
      ]
     },
     "execution_count": 7,
     "metadata": {},
     "output_type": "execute_result"
    }
   ],
   "source": [
    "cpc_df = pd.read_csv(PATH + 'CPC.txt', sep='¶')\n",
    "cpc_df.head()"
   ]
  },
  {
   "cell_type": "code",
   "execution_count": 27,
   "metadata": {},
   "outputs": [
    {
     "data": {
      "text/html": [
       "<div>\n",
       "<style scoped>\n",
       "    .dataframe tbody tr th:only-of-type {\n",
       "        vertical-align: middle;\n",
       "    }\n",
       "\n",
       "    .dataframe tbody tr th {\n",
       "        vertical-align: top;\n",
       "    }\n",
       "\n",
       "    .dataframe thead th {\n",
       "        text-align: right;\n",
       "    }\n",
       "</style>\n",
       "<table border=\"1\" class=\"dataframe\">\n",
       "  <thead>\n",
       "    <tr style=\"text-align: right;\">\n",
       "      <th></th>\n",
       "      <th>출원번호</th>\n",
       "      <th>cpc코드</th>\n",
       "    </tr>\n",
       "  </thead>\n",
       "  <tbody>\n",
       "    <tr>\n",
       "      <th>0</th>\n",
       "      <td>1019470000003</td>\n",
       "      <td>C21B 15/00</td>\n",
       "    </tr>\n",
       "    <tr>\n",
       "      <th>1</th>\n",
       "      <td>1019470000187</td>\n",
       "      <td>C01G 21/12</td>\n",
       "    </tr>\n",
       "    <tr>\n",
       "      <th>2</th>\n",
       "      <td>1019470000188</td>\n",
       "      <td>C09C 1/00</td>\n",
       "    </tr>\n",
       "    <tr>\n",
       "      <th>3</th>\n",
       "      <td>1019470000200</td>\n",
       "      <td>A23L 11/20</td>\n",
       "    </tr>\n",
       "    <tr>\n",
       "      <th>5</th>\n",
       "      <td>1019470000220</td>\n",
       "      <td>A62C 11/00</td>\n",
       "    </tr>\n",
       "  </tbody>\n",
       "</table>\n",
       "</div>"
      ],
      "text/plain": [
       "            출원번호       cpc코드\n",
       "0  1019470000003  C21B 15/00\n",
       "1  1019470000187  C01G 21/12\n",
       "2  1019470000188   C09C 1/00\n",
       "3  1019470000200  A23L 11/20\n",
       "5  1019470000220  A62C 11/00"
      ]
     },
     "execution_count": 27,
     "metadata": {},
     "output_type": "execute_result"
    }
   ],
   "source": [
    "cpc_df = cpc_df[cpc_df['특허분류일련번호'] == 1]\n",
    "new_cpc_df = cpc_df[['출원번호', 'cpc코드']]\n",
    "new_cpc_df.head()"
   ]
  },
  {
   "cell_type": "code",
   "execution_count": 28,
   "metadata": {},
   "outputs": [],
   "source": [
    "new_cpc_df.to_csv('./Data/Preprocessing/CPC.csv', index= False, encoding= 'utf-8-sig')"
   ]
  },
  {
   "cell_type": "markdown",
   "metadata": {},
   "source": [
    "#### 01 - 03 IPC(International Patent Classification)"
   ]
  },
  {
   "cell_type": "code",
   "execution_count": 8,
   "metadata": {},
   "outputs": [
    {
     "data": {
      "text/html": [
       "<div>\n",
       "<style scoped>\n",
       "    .dataframe tbody tr th:only-of-type {\n",
       "        vertical-align: middle;\n",
       "    }\n",
       "\n",
       "    .dataframe tbody tr th {\n",
       "        vertical-align: top;\n",
       "    }\n",
       "\n",
       "    .dataframe thead th {\n",
       "        text-align: right;\n",
       "    }\n",
       "</style>\n",
       "<table border=\"1\" class=\"dataframe\">\n",
       "  <thead>\n",
       "    <tr style=\"text-align: right;\">\n",
       "      <th></th>\n",
       "      <th>출원번호</th>\n",
       "      <th>특허분류일련번호</th>\n",
       "      <th>ipc코드</th>\n",
       "      <th>ipc개정일자</th>\n",
       "    </tr>\n",
       "  </thead>\n",
       "  <tbody>\n",
       "    <tr>\n",
       "      <th>0</th>\n",
       "      <td>1009880005252</td>\n",
       "      <td>1</td>\n",
       "      <td>C01B 17/04</td>\n",
       "      <td>(2006.01.01)</td>\n",
       "    </tr>\n",
       "    <tr>\n",
       "      <th>1</th>\n",
       "      <td>1009890015702</td>\n",
       "      <td>1</td>\n",
       "      <td>A63G 29/00</td>\n",
       "      <td>(2006.01.01)</td>\n",
       "    </tr>\n",
       "    <tr>\n",
       "      <th>2</th>\n",
       "      <td>1009940008104</td>\n",
       "      <td>1</td>\n",
       "      <td>G05F 1/10</td>\n",
       "      <td>(2006.01.01)</td>\n",
       "    </tr>\n",
       "    <tr>\n",
       "      <th>3</th>\n",
       "      <td>1009940008104</td>\n",
       "      <td>2</td>\n",
       "      <td>G05F 1/02</td>\n",
       "      <td>(2006.01.01)</td>\n",
       "    </tr>\n",
       "    <tr>\n",
       "      <th>4</th>\n",
       "      <td>1011920014920</td>\n",
       "      <td>1</td>\n",
       "      <td>H02M 1/00</td>\n",
       "      <td>(2006.01.01)</td>\n",
       "    </tr>\n",
       "  </tbody>\n",
       "</table>\n",
       "</div>"
      ],
      "text/plain": [
       "            출원번호  특허분류일련번호       ipc코드       ipc개정일자\n",
       "0  1009880005252         1  C01B 17/04  (2006.01.01)\n",
       "1  1009890015702         1  A63G 29/00  (2006.01.01)\n",
       "2  1009940008104         1   G05F 1/10  (2006.01.01)\n",
       "3  1009940008104         2   G05F 1/02  (2006.01.01)\n",
       "4  1011920014920         1   H02M 1/00  (2006.01.01)"
      ]
     },
     "execution_count": 8,
     "metadata": {},
     "output_type": "execute_result"
    }
   ],
   "source": [
    "ipc_df = pd.read_csv(PATH + 'IPC.txt', sep='¶')\n",
    "ipc_df.head()"
   ]
  },
  {
   "cell_type": "code",
   "execution_count": 24,
   "metadata": {},
   "outputs": [
    {
     "data": {
      "text/html": [
       "<div>\n",
       "<style scoped>\n",
       "    .dataframe tbody tr th:only-of-type {\n",
       "        vertical-align: middle;\n",
       "    }\n",
       "\n",
       "    .dataframe tbody tr th {\n",
       "        vertical-align: top;\n",
       "    }\n",
       "\n",
       "    .dataframe thead th {\n",
       "        text-align: right;\n",
       "    }\n",
       "</style>\n",
       "<table border=\"1\" class=\"dataframe\">\n",
       "  <thead>\n",
       "    <tr style=\"text-align: right;\">\n",
       "      <th></th>\n",
       "      <th>출원번호</th>\n",
       "      <th>특허분류일련번호</th>\n",
       "      <th>ipc코드</th>\n",
       "      <th>ipc개정일자</th>\n",
       "    </tr>\n",
       "  </thead>\n",
       "  <tbody>\n",
       "    <tr>\n",
       "      <th>0</th>\n",
       "      <td>1009880005252</td>\n",
       "      <td>1</td>\n",
       "      <td>C01B 17/04</td>\n",
       "      <td>(2006.01.01)</td>\n",
       "    </tr>\n",
       "    <tr>\n",
       "      <th>1</th>\n",
       "      <td>1009890015702</td>\n",
       "      <td>1</td>\n",
       "      <td>A63G 29/00</td>\n",
       "      <td>(2006.01.01)</td>\n",
       "    </tr>\n",
       "    <tr>\n",
       "      <th>2</th>\n",
       "      <td>1009940008104</td>\n",
       "      <td>1</td>\n",
       "      <td>G05F 1/10</td>\n",
       "      <td>(2006.01.01)</td>\n",
       "    </tr>\n",
       "    <tr>\n",
       "      <th>4</th>\n",
       "      <td>1011920014920</td>\n",
       "      <td>1</td>\n",
       "      <td>H02M 1/00</td>\n",
       "      <td>(2006.01.01)</td>\n",
       "    </tr>\n",
       "    <tr>\n",
       "      <th>5</th>\n",
       "      <td>1018830001360</td>\n",
       "      <td>1</td>\n",
       "      <td>G11B 7/00</td>\n",
       "      <td>(2006.01.01)</td>\n",
       "    </tr>\n",
       "  </tbody>\n",
       "</table>\n",
       "</div>"
      ],
      "text/plain": [
       "            출원번호  특허분류일련번호       ipc코드       ipc개정일자\n",
       "0  1009880005252         1  C01B 17/04  (2006.01.01)\n",
       "1  1009890015702         1  A63G 29/00  (2006.01.01)\n",
       "2  1009940008104         1   G05F 1/10  (2006.01.01)\n",
       "4  1011920014920         1   H02M 1/00  (2006.01.01)\n",
       "5  1018830001360         1   G11B 7/00  (2006.01.01)"
      ]
     },
     "execution_count": 24,
     "metadata": {},
     "output_type": "execute_result"
    }
   ],
   "source": [
    "ipc_df = ipc_df[ipc_df['특허분류일련번호'] == 1]\n",
    "ipc_df.head()"
   ]
  },
  {
   "cell_type": "code",
   "execution_count": 25,
   "metadata": {},
   "outputs": [
    {
     "data": {
      "text/html": [
       "<div>\n",
       "<style scoped>\n",
       "    .dataframe tbody tr th:only-of-type {\n",
       "        vertical-align: middle;\n",
       "    }\n",
       "\n",
       "    .dataframe tbody tr th {\n",
       "        vertical-align: top;\n",
       "    }\n",
       "\n",
       "    .dataframe thead th {\n",
       "        text-align: right;\n",
       "    }\n",
       "</style>\n",
       "<table border=\"1\" class=\"dataframe\">\n",
       "  <thead>\n",
       "    <tr style=\"text-align: right;\">\n",
       "      <th></th>\n",
       "      <th>출원번호</th>\n",
       "      <th>ipc코드</th>\n",
       "    </tr>\n",
       "  </thead>\n",
       "  <tbody>\n",
       "    <tr>\n",
       "      <th>0</th>\n",
       "      <td>1009880005252</td>\n",
       "      <td>C01B 17/04</td>\n",
       "    </tr>\n",
       "    <tr>\n",
       "      <th>1</th>\n",
       "      <td>1009890015702</td>\n",
       "      <td>A63G 29/00</td>\n",
       "    </tr>\n",
       "    <tr>\n",
       "      <th>2</th>\n",
       "      <td>1009940008104</td>\n",
       "      <td>G05F 1/10</td>\n",
       "    </tr>\n",
       "    <tr>\n",
       "      <th>4</th>\n",
       "      <td>1011920014920</td>\n",
       "      <td>H02M 1/00</td>\n",
       "    </tr>\n",
       "    <tr>\n",
       "      <th>5</th>\n",
       "      <td>1018830001360</td>\n",
       "      <td>G11B 7/00</td>\n",
       "    </tr>\n",
       "  </tbody>\n",
       "</table>\n",
       "</div>"
      ],
      "text/plain": [
       "            출원번호       ipc코드\n",
       "0  1009880005252  C01B 17/04\n",
       "1  1009890015702  A63G 29/00\n",
       "2  1009940008104   G05F 1/10\n",
       "4  1011920014920   H02M 1/00\n",
       "5  1018830001360   G11B 7/00"
      ]
     },
     "execution_count": 25,
     "metadata": {},
     "output_type": "execute_result"
    }
   ],
   "source": [
    "new_ipc_df = ipc_df[['출원번호', 'ipc코드']]\n",
    "new_ipc_df.head()"
   ]
  },
  {
   "cell_type": "code",
   "execution_count": 26,
   "metadata": {},
   "outputs": [],
   "source": [
    "new_ipc_df.to_csv('./Data/Preprocessing/IPC.csv', index= False, encoding= 'utf-8-sig')"
   ]
  },
  {
   "cell_type": "markdown",
   "metadata": {},
   "source": [
    "#### 01 - 04 Title"
   ]
  },
  {
   "cell_type": "code",
   "execution_count": 9,
   "metadata": {},
   "outputs": [
    {
     "data": {
      "text/html": [
       "<div>\n",
       "<style scoped>\n",
       "    .dataframe tbody tr th:only-of-type {\n",
       "        vertical-align: middle;\n",
       "    }\n",
       "\n",
       "    .dataframe tbody tr th {\n",
       "        vertical-align: top;\n",
       "    }\n",
       "\n",
       "    .dataframe thead th {\n",
       "        text-align: right;\n",
       "    }\n",
       "</style>\n",
       "<table border=\"1\" class=\"dataframe\">\n",
       "  <thead>\n",
       "    <tr style=\"text-align: right;\">\n",
       "      <th></th>\n",
       "      <th>출원번호</th>\n",
       "      <th>출원일자</th>\n",
       "      <th>공개번호</th>\n",
       "      <th>공개일자</th>\n",
       "      <th>등록번호</th>\n",
       "      <th>등록일자</th>\n",
       "      <th>공고번호</th>\n",
       "      <th>공고일자</th>\n",
       "      <th>원출원번호</th>\n",
       "      <th>원출원일자</th>\n",
       "      <th>...</th>\n",
       "      <th>발명의명칭(영문)</th>\n",
       "      <th>최종처분내용</th>\n",
       "      <th>등록사항</th>\n",
       "      <th>심사청구여부</th>\n",
       "      <th>심사청구일자</th>\n",
       "      <th>청구항수</th>\n",
       "      <th>변경청구항수</th>\n",
       "      <th>출원구분</th>\n",
       "      <th>기술양도희망유무</th>\n",
       "      <th>기술지도희망유무</th>\n",
       "    </tr>\n",
       "  </thead>\n",
       "  <tbody>\n",
       "    <tr>\n",
       "      <th>0</th>\n",
       "      <td>1009880005252</td>\n",
       "      <td>19880506</td>\n",
       "      <td>1019880013604</td>\n",
       "      <td>19881221</td>\n",
       "      <td></td>\n",
       "      <td></td>\n",
       "      <td></td>\n",
       "      <td>19970101</td>\n",
       "      <td></td>\n",
       "      <td></td>\n",
       "      <td>...</td>\n",
       "      <td></td>\n",
       "      <td></td>\n",
       "      <td></td>\n",
       "      <td></td>\n",
       "      <td></td>\n",
       "      <td></td>\n",
       "      <td>0</td>\n",
       "      <td></td>\n",
       "      <td>N</td>\n",
       "      <td>N</td>\n",
       "    </tr>\n",
       "    <tr>\n",
       "      <th>1</th>\n",
       "      <td>1009890015702</td>\n",
       "      <td>19891030</td>\n",
       "      <td>1019910002484</td>\n",
       "      <td>19910225</td>\n",
       "      <td></td>\n",
       "      <td></td>\n",
       "      <td></td>\n",
       "      <td>19970101</td>\n",
       "      <td></td>\n",
       "      <td></td>\n",
       "      <td>...</td>\n",
       "      <td></td>\n",
       "      <td></td>\n",
       "      <td></td>\n",
       "      <td></td>\n",
       "      <td></td>\n",
       "      <td></td>\n",
       "      <td>0</td>\n",
       "      <td></td>\n",
       "      <td>N</td>\n",
       "      <td>N</td>\n",
       "    </tr>\n",
       "    <tr>\n",
       "      <th>2</th>\n",
       "      <td>1009940008104</td>\n",
       "      <td>19940418</td>\n",
       "      <td>1019950029892</td>\n",
       "      <td>19951124</td>\n",
       "      <td></td>\n",
       "      <td></td>\n",
       "      <td></td>\n",
       "      <td>19970101</td>\n",
       "      <td></td>\n",
       "      <td></td>\n",
       "      <td>...</td>\n",
       "      <td></td>\n",
       "      <td></td>\n",
       "      <td></td>\n",
       "      <td></td>\n",
       "      <td></td>\n",
       "      <td></td>\n",
       "      <td>0</td>\n",
       "      <td></td>\n",
       "      <td>N</td>\n",
       "      <td>N</td>\n",
       "    </tr>\n",
       "    <tr>\n",
       "      <th>3</th>\n",
       "      <td>1011920014920</td>\n",
       "      <td>19920819</td>\n",
       "      <td>1019940004917</td>\n",
       "      <td>19940316</td>\n",
       "      <td></td>\n",
       "      <td></td>\n",
       "      <td></td>\n",
       "      <td></td>\n",
       "      <td></td>\n",
       "      <td></td>\n",
       "      <td>...</td>\n",
       "      <td></td>\n",
       "      <td></td>\n",
       "      <td></td>\n",
       "      <td></td>\n",
       "      <td></td>\n",
       "      <td></td>\n",
       "      <td>0</td>\n",
       "      <td></td>\n",
       "      <td>N</td>\n",
       "      <td>N</td>\n",
       "    </tr>\n",
       "    <tr>\n",
       "      <th>4</th>\n",
       "      <td>1018830001360</td>\n",
       "      <td>19830401</td>\n",
       "      <td>1019840004808</td>\n",
       "      <td>19841024</td>\n",
       "      <td></td>\n",
       "      <td></td>\n",
       "      <td>1019890001465</td>\n",
       "      <td>19890504</td>\n",
       "      <td></td>\n",
       "      <td></td>\n",
       "      <td>...</td>\n",
       "      <td></td>\n",
       "      <td></td>\n",
       "      <td></td>\n",
       "      <td></td>\n",
       "      <td></td>\n",
       "      <td></td>\n",
       "      <td>0</td>\n",
       "      <td></td>\n",
       "      <td>N</td>\n",
       "      <td>N</td>\n",
       "    </tr>\n",
       "  </tbody>\n",
       "</table>\n",
       "<p>5 rows × 26 columns</p>\n",
       "</div>"
      ],
      "text/plain": [
       "            출원번호      출원일자           공개번호      공개일자 등록번호 등록일자           공고번호  \\\n",
       "0  1009880005252  19880506  1019880013604  19881221                            \n",
       "1  1009890015702  19891030  1019910002484  19910225                            \n",
       "2  1009940008104  19940418  1019950029892  19951124                            \n",
       "3  1011920014920  19920819  1019940004917  19940316                            \n",
       "4  1018830001360  19830401  1019840004808  19841024            1019890001465   \n",
       "\n",
       "       공고일자 원출원번호 원출원일자  ... 발명의명칭(영문) 최종처분내용 등록사항 심사청구여부 심사청구일자 청구항수 변경청구항수  \\\n",
       "0  19970101              ...                                               0   \n",
       "1  19970101              ...                                               0   \n",
       "2  19970101              ...                                               0   \n",
       "3                        ...                                               0   \n",
       "4  19890504              ...                                               0   \n",
       "\n",
       "  출원구분 기술양도희망유무 기술지도희망유무  \n",
       "0             N        N  \n",
       "1             N        N  \n",
       "2             N        N  \n",
       "3             N        N  \n",
       "4             N        N  \n",
       "\n",
       "[5 rows x 26 columns]"
      ]
     },
     "execution_count": 9,
     "metadata": {},
     "output_type": "execute_result"
    }
   ],
   "source": [
    "bibliographic_df = pd.read_csv(PATH + 'Bibliographic.txt', sep='¶')\n",
    "bibliographic_df.head()"
   ]
  },
  {
   "cell_type": "code",
   "execution_count": 17,
   "metadata": {},
   "outputs": [
    {
     "data": {
      "text/plain": [
       "Index(['출원번호', '출원일자', '공개번호', '공개일자', '등록번호', '등록일자', '공고번호', '공고일자', '원출원번호',\n",
       "       '원출원일자', '번역문제출일자', '국제출원번호', '국제출원일자', '국제공개번호', '국제공개일', '발명의명칭(국문)',\n",
       "       '발명의명칭(영문)', '최종처분내용', '등록사항', '심사청구여부', '심사청구일자', '청구항수', '변경청구항수',\n",
       "       '출원구분', '기술양도희망유무', '기술지도희망유무'],\n",
       "      dtype='object')"
      ]
     },
     "execution_count": 17,
     "metadata": {},
     "output_type": "execute_result"
    }
   ],
   "source": [
    "bibliographic_df.columns"
   ]
  },
  {
   "cell_type": "code",
   "execution_count": 21,
   "metadata": {},
   "outputs": [
    {
     "data": {
      "text/html": [
       "<div>\n",
       "<style scoped>\n",
       "    .dataframe tbody tr th:only-of-type {\n",
       "        vertical-align: middle;\n",
       "    }\n",
       "\n",
       "    .dataframe tbody tr th {\n",
       "        vertical-align: top;\n",
       "    }\n",
       "\n",
       "    .dataframe thead th {\n",
       "        text-align: right;\n",
       "    }\n",
       "</style>\n",
       "<table border=\"1\" class=\"dataframe\">\n",
       "  <thead>\n",
       "    <tr style=\"text-align: right;\">\n",
       "      <th></th>\n",
       "      <th>출원번호</th>\n",
       "      <th>출원일자</th>\n",
       "      <th>발명의명칭(국문)</th>\n",
       "      <th>발명의명칭(영문)</th>\n",
       "    </tr>\n",
       "  </thead>\n",
       "  <tbody>\n",
       "    <tr>\n",
       "      <th>0</th>\n",
       "      <td>1009880005252</td>\n",
       "      <td>19880506</td>\n",
       "      <td>가스 스트림의 처리</td>\n",
       "      <td></td>\n",
       "    </tr>\n",
       "    <tr>\n",
       "      <th>1</th>\n",
       "      <td>1009890015702</td>\n",
       "      <td>19891030</td>\n",
       "      <td>회전활강장치</td>\n",
       "      <td></td>\n",
       "    </tr>\n",
       "    <tr>\n",
       "      <th>2</th>\n",
       "      <td>1009940008104</td>\n",
       "      <td>19940418</td>\n",
       "      <td>주행 로보트 전력 제어 장치</td>\n",
       "      <td></td>\n",
       "    </tr>\n",
       "    <tr>\n",
       "      <th>3</th>\n",
       "      <td>1011920014920</td>\n",
       "      <td>19920819</td>\n",
       "      <td>냉장고 팬모터의 속도 안정화회로 및 그 방법</td>\n",
       "      <td></td>\n",
       "    </tr>\n",
       "    <tr>\n",
       "      <th>4</th>\n",
       "      <td>1018830001360</td>\n",
       "      <td>19830401</td>\n",
       "      <td>디지탈 정보신호 기록방법과 장치 및 기록 캐리어</td>\n",
       "      <td></td>\n",
       "    </tr>\n",
       "  </tbody>\n",
       "</table>\n",
       "</div>"
      ],
      "text/plain": [
       "            출원번호      출원일자                   발명의명칭(국문) 발명의명칭(영문)\n",
       "0  1009880005252  19880506                  가스 스트림의 처리          \n",
       "1  1009890015702  19891030                      회전활강장치          \n",
       "2  1009940008104  19940418             주행 로보트 전력 제어 장치          \n",
       "3  1011920014920  19920819    냉장고 팬모터의 속도 안정화회로 및 그 방법          \n",
       "4  1018830001360  19830401  디지탈 정보신호 기록방법과 장치 및 기록 캐리어          "
      ]
     },
     "execution_count": 21,
     "metadata": {},
     "output_type": "execute_result"
    }
   ],
   "source": [
    "new_bibliographic_df = bibliographic_df[['출원번호', '출원일자', '발명의명칭(국문)', '발명의명칭(영문)']]\n",
    "new_bibliographic_df.head()"
   ]
  },
  {
   "cell_type": "code",
   "execution_count": 22,
   "metadata": {},
   "outputs": [],
   "source": [
    "new_bibliographic_df.to_csv('./Data/Preprocessing/Bibliographic.csv', index= False, encoding= 'utf-8-sig')"
   ]
  },
  {
   "cell_type": "markdown",
   "metadata": {},
   "source": [
    "#### 01 - 05 Abstract"
   ]
  },
  {
   "cell_type": "code",
   "execution_count": 10,
   "metadata": {},
   "outputs": [
    {
     "data": {
      "text/html": [
       "<div>\n",
       "<style scoped>\n",
       "    .dataframe tbody tr th:only-of-type {\n",
       "        vertical-align: middle;\n",
       "    }\n",
       "\n",
       "    .dataframe tbody tr th {\n",
       "        vertical-align: top;\n",
       "    }\n",
       "\n",
       "    .dataframe thead th {\n",
       "        text-align: right;\n",
       "    }\n",
       "</style>\n",
       "<table border=\"1\" class=\"dataframe\">\n",
       "  <thead>\n",
       "    <tr style=\"text-align: right;\">\n",
       "      <th></th>\n",
       "      <th>출원번호</th>\n",
       "      <th>초록</th>\n",
       "    </tr>\n",
       "  </thead>\n",
       "  <tbody>\n",
       "    <tr>\n",
       "      <th>0</th>\n",
       "      <td>1018830001360</td>\n",
       "      <td>&lt;SDOAB&gt;&lt;SUMMARY&gt;&lt;P&gt;내용 없음.&lt;/P&gt;&lt;/SUMMARY&gt;&lt;ABDR&gt;&lt;...</td>\n",
       "    </tr>\n",
       "    <tr>\n",
       "      <th>1</th>\n",
       "      <td>1019400001417</td>\n",
       "      <td>&lt;SDOAB&gt;&lt;SUMMARY&gt;&lt;P&gt;내용없음.&lt;/P&gt;&lt;/SUMMARY&gt;&lt;/SDOAB&gt;</td>\n",
       "    </tr>\n",
       "    <tr>\n",
       "      <th>2</th>\n",
       "      <td>1019680001355</td>\n",
       "      <td>&lt;SDOAB&gt;&lt;SUMMARY&gt;&lt;P&gt;내용 없음.&lt;/P&gt;&lt;/SUMMARY&gt;&lt;ABDR&gt;&lt;...</td>\n",
       "    </tr>\n",
       "    <tr>\n",
       "      <th>3</th>\n",
       "      <td>1019690000157</td>\n",
       "      <td>&lt;SDOAB&gt;&lt;SUMMARY&gt;&lt;P&gt;내용 없음.&lt;/P&gt;&lt;/SUMMARY&gt;&lt;/SDOAB&gt;</td>\n",
       "    </tr>\n",
       "    <tr>\n",
       "      <th>4</th>\n",
       "      <td>1019690000526</td>\n",
       "      <td>&lt;SDOAB&gt;&lt;SUMMARY&gt;&lt;P&gt;내용 없음.&lt;/P&gt;&lt;/SUMMARY&gt;&lt;/SDOAB&gt;</td>\n",
       "    </tr>\n",
       "  </tbody>\n",
       "</table>\n",
       "</div>"
      ],
      "text/plain": [
       "            출원번호                                                 초록\n",
       "0  1018830001360  <SDOAB><SUMMARY><P>내용 없음.</P></SUMMARY><ABDR><...\n",
       "1  1019400001417     <SDOAB><SUMMARY><P>내용없음.</P></SUMMARY></SDOAB>\n",
       "2  1019680001355  <SDOAB><SUMMARY><P>내용 없음.</P></SUMMARY><ABDR><...\n",
       "3  1019690000157    <SDOAB><SUMMARY><P>내용 없음.</P></SUMMARY></SDOAB>\n",
       "4  1019690000526    <SDOAB><SUMMARY><P>내용 없음.</P></SUMMARY></SDOAB>"
      ]
     },
     "execution_count": 10,
     "metadata": {},
     "output_type": "execute_result"
    }
   ],
   "source": [
    "abstract_df = pd.read_csv(PATH + 'Abstract.txt', sep='¶')\n",
    "abstract_df.head()"
   ]
  },
  {
   "cell_type": "code",
   "execution_count": 11,
   "metadata": {},
   "outputs": [],
   "source": [
    "def is_empty(data):\n",
    "    new_data = re.sub(r'\\<[^>]*\\>', '', data).strip()\n",
    "        \n",
    "    if len(new_data) < 10:\n",
    "        return np.nan\n",
    "    \n",
    "    else:\n",
    "        return new_data"
   ]
  },
  {
   "cell_type": "code",
   "execution_count": 12,
   "metadata": {},
   "outputs": [
    {
     "data": {
      "application/vnd.jupyter.widget-view+json": {
       "model_id": "f4e4c5f170864381aaab0eb4abda2c2d",
       "version_major": 2,
       "version_minor": 0
      },
      "text/plain": [
       "  0%|          | 0/4695827 [00:00<?, ?it/s]"
      ]
     },
     "metadata": {},
     "output_type": "display_data"
    }
   ],
   "source": [
    "abstract_df['preprocess_abstract'] = abstract_df[\"초록\"].progress_apply(is_empty)"
   ]
  },
  {
   "cell_type": "code",
   "execution_count": 13,
   "metadata": {},
   "outputs": [
    {
     "data": {
      "text/html": [
       "<div>\n",
       "<style scoped>\n",
       "    .dataframe tbody tr th:only-of-type {\n",
       "        vertical-align: middle;\n",
       "    }\n",
       "\n",
       "    .dataframe tbody tr th {\n",
       "        vertical-align: top;\n",
       "    }\n",
       "\n",
       "    .dataframe thead th {\n",
       "        text-align: right;\n",
       "    }\n",
       "</style>\n",
       "<table border=\"1\" class=\"dataframe\">\n",
       "  <thead>\n",
       "    <tr style=\"text-align: right;\">\n",
       "      <th></th>\n",
       "      <th>출원번호</th>\n",
       "      <th>초록</th>\n",
       "      <th>preprocess_abstract</th>\n",
       "    </tr>\n",
       "  </thead>\n",
       "  <tbody>\n",
       "    <tr>\n",
       "      <th>0</th>\n",
       "      <td>1018830001360</td>\n",
       "      <td>&lt;SDOAB&gt;&lt;SUMMARY&gt;&lt;P&gt;내용 없음.&lt;/P&gt;&lt;/SUMMARY&gt;&lt;ABDR&gt;&lt;...</td>\n",
       "      <td>NaN</td>\n",
       "    </tr>\n",
       "    <tr>\n",
       "      <th>1</th>\n",
       "      <td>1019400001417</td>\n",
       "      <td>&lt;SDOAB&gt;&lt;SUMMARY&gt;&lt;P&gt;내용없음.&lt;/P&gt;&lt;/SUMMARY&gt;&lt;/SDOAB&gt;</td>\n",
       "      <td>NaN</td>\n",
       "    </tr>\n",
       "    <tr>\n",
       "      <th>2</th>\n",
       "      <td>1019680001355</td>\n",
       "      <td>&lt;SDOAB&gt;&lt;SUMMARY&gt;&lt;P&gt;내용 없음.&lt;/P&gt;&lt;/SUMMARY&gt;&lt;ABDR&gt;&lt;...</td>\n",
       "      <td>NaN</td>\n",
       "    </tr>\n",
       "    <tr>\n",
       "      <th>3</th>\n",
       "      <td>1019690000157</td>\n",
       "      <td>&lt;SDOAB&gt;&lt;SUMMARY&gt;&lt;P&gt;내용 없음.&lt;/P&gt;&lt;/SUMMARY&gt;&lt;/SDOAB&gt;</td>\n",
       "      <td>NaN</td>\n",
       "    </tr>\n",
       "    <tr>\n",
       "      <th>4</th>\n",
       "      <td>1019690000526</td>\n",
       "      <td>&lt;SDOAB&gt;&lt;SUMMARY&gt;&lt;P&gt;내용 없음.&lt;/P&gt;&lt;/SUMMARY&gt;&lt;/SDOAB&gt;</td>\n",
       "      <td>NaN</td>\n",
       "    </tr>\n",
       "  </tbody>\n",
       "</table>\n",
       "</div>"
      ],
      "text/plain": [
       "            출원번호                                                 초록  \\\n",
       "0  1018830001360  <SDOAB><SUMMARY><P>내용 없음.</P></SUMMARY><ABDR><...   \n",
       "1  1019400001417     <SDOAB><SUMMARY><P>내용없음.</P></SUMMARY></SDOAB>   \n",
       "2  1019680001355  <SDOAB><SUMMARY><P>내용 없음.</P></SUMMARY><ABDR><...   \n",
       "3  1019690000157    <SDOAB><SUMMARY><P>내용 없음.</P></SUMMARY></SDOAB>   \n",
       "4  1019690000526    <SDOAB><SUMMARY><P>내용 없음.</P></SUMMARY></SDOAB>   \n",
       "\n",
       "  preprocess_abstract  \n",
       "0                 NaN  \n",
       "1                 NaN  \n",
       "2                 NaN  \n",
       "3                 NaN  \n",
       "4                 NaN  "
      ]
     },
     "execution_count": 13,
     "metadata": {},
     "output_type": "execute_result"
    }
   ],
   "source": [
    "abstract_df.head()"
   ]
  },
  {
   "cell_type": "code",
   "execution_count": 14,
   "metadata": {},
   "outputs": [
    {
     "data": {
      "text/html": [
       "<div>\n",
       "<style scoped>\n",
       "    .dataframe tbody tr th:only-of-type {\n",
       "        vertical-align: middle;\n",
       "    }\n",
       "\n",
       "    .dataframe tbody tr th {\n",
       "        vertical-align: top;\n",
       "    }\n",
       "\n",
       "    .dataframe thead th {\n",
       "        text-align: right;\n",
       "    }\n",
       "</style>\n",
       "<table border=\"1\" class=\"dataframe\">\n",
       "  <thead>\n",
       "    <tr style=\"text-align: right;\">\n",
       "      <th></th>\n",
       "      <th>출원번호</th>\n",
       "      <th>초록</th>\n",
       "      <th>preprocess_abstract</th>\n",
       "    </tr>\n",
       "  </thead>\n",
       "  <tbody>\n",
       "    <tr>\n",
       "      <th>4952</th>\n",
       "      <td>1019780001915</td>\n",
       "      <td>&lt;SDOAB&gt;&lt;SUMMARY&gt;&lt;목적&gt;조미료 제조시에 부산물로 얻어지는 발효 폐액과 ...</td>\n",
       "      <td>조미료 제조시에 부산물로 얻어지는 발효 폐액과 인산암모니움염의 혼합 현탁액을 이용하...</td>\n",
       "    </tr>\n",
       "    <tr>\n",
       "      <th>5294</th>\n",
       "      <td>1019780002509</td>\n",
       "      <td>&lt;SDOAB&gt;&lt;SUMMARY&gt;[구성]본문에 설명하고 도면에 예시한 바와 같이, 기록...</td>\n",
       "      <td>[구성]본문에 설명하고 도면에 예시한 바와 같이, 기록매체로 형성한  정전 잠상을 ...</td>\n",
       "    </tr>\n",
       "    <tr>\n",
       "      <th>5337</th>\n",
       "      <td>1019780002593</td>\n",
       "      <td>&lt;SDOAB&gt;&lt;SUMMARY&gt;[구성]불포화 폴리에스테르 수지(A), 진주 광택 안료...</td>\n",
       "      <td>[구성]불포화 폴리에스테르 수지(A), 진주 광택 안료(B), 경화 촉매(C), 알...</td>\n",
       "    </tr>\n",
       "    <tr>\n",
       "      <th>6065</th>\n",
       "      <td>1019780003870</td>\n",
       "      <td>&lt;SDOAB&gt;&lt;SUMMARY&gt;&lt;목적&gt;2',4'-디플루오로-4-아세톡시비페닐을 출발물...</td>\n",
       "      <td>2',4'-디플루오로-4-아세톡시비페닐을 출발물질로하여 2',4'-디플루오로-4-히...</td>\n",
       "    </tr>\n",
       "    <tr>\n",
       "      <th>6794</th>\n",
       "      <td>1019790001108</td>\n",
       "      <td>&lt;SDOAB&gt;&lt;SUMMARY&gt;&lt;P&gt;&amp;quot;내용 없음&amp;quot;&lt;/P&gt;&lt;/SUMM...</td>\n",
       "      <td>&amp;quot;내용 없음&amp;quot;</td>\n",
       "    </tr>\n",
       "  </tbody>\n",
       "</table>\n",
       "</div>"
      ],
      "text/plain": [
       "               출원번호                                                 초록  \\\n",
       "4952  1019780001915  <SDOAB><SUMMARY><목적>조미료 제조시에 부산물로 얻어지는 발효 폐액과 ...   \n",
       "5294  1019780002509  <SDOAB><SUMMARY>[구성]본문에 설명하고 도면에 예시한 바와 같이, 기록...   \n",
       "5337  1019780002593  <SDOAB><SUMMARY>[구성]불포화 폴리에스테르 수지(A), 진주 광택 안료...   \n",
       "6065  1019780003870  <SDOAB><SUMMARY><목적>2',4'-디플루오로-4-아세톡시비페닐을 출발물...   \n",
       "6794  1019790001108  <SDOAB><SUMMARY><P>&quot;내용 없음&quot;</P></SUMM...   \n",
       "\n",
       "                                    preprocess_abstract  \n",
       "4952  조미료 제조시에 부산물로 얻어지는 발효 폐액과 인산암모니움염의 혼합 현탁액을 이용하...  \n",
       "5294  [구성]본문에 설명하고 도면에 예시한 바와 같이, 기록매체로 형성한  정전 잠상을 ...  \n",
       "5337  [구성]불포화 폴리에스테르 수지(A), 진주 광택 안료(B), 경화 촉매(C), 알...  \n",
       "6065  2',4'-디플루오로-4-아세톡시비페닐을 출발물질로하여 2',4'-디플루오로-4-히...  \n",
       "6794                                  &quot;내용 없음&quot;  "
      ]
     },
     "execution_count": 14,
     "metadata": {},
     "output_type": "execute_result"
    }
   ],
   "source": [
    "new_abstract_df = abstract_df.dropna(inplace= False)\n",
    "new_abstract_df.head()"
   ]
  },
  {
   "cell_type": "code",
   "execution_count": 15,
   "metadata": {},
   "outputs": [
    {
     "name": "stdout",
     "output_type": "stream",
     "text": [
      "<class 'pandas.core.frame.DataFrame'>\n",
      "Int64Index: 4431009 entries, 4952 to 4695826\n",
      "Data columns (total 3 columns):\n",
      "출원번호                   int64\n",
      "초록                     object\n",
      "preprocess_abstract    object\n",
      "dtypes: int64(1), object(2)\n",
      "memory usage: 135.2+ MB\n"
     ]
    }
   ],
   "source": [
    "new_abstract_df.info()"
   ]
  },
  {
   "cell_type": "code",
   "execution_count": 16,
   "metadata": {},
   "outputs": [],
   "source": [
    "new_abstract_df.to_csv('./Data/Preprocessing/Abstract.csv', index= False, encoding= 'utf-8-sig')"
   ]
  },
  {
   "cell_type": "markdown",
   "metadata": {},
   "source": [
    "#### 01 - 06 데이터 합치기"
   ]
  },
  {
   "cell_type": "code",
   "execution_count": 29,
   "metadata": {},
   "outputs": [
    {
     "data": {
      "text/html": [
       "<div>\n",
       "<style scoped>\n",
       "    .dataframe tbody tr th:only-of-type {\n",
       "        vertical-align: middle;\n",
       "    }\n",
       "\n",
       "    .dataframe tbody tr th {\n",
       "        vertical-align: top;\n",
       "    }\n",
       "\n",
       "    .dataframe thead th {\n",
       "        text-align: right;\n",
       "    }\n",
       "</style>\n",
       "<table border=\"1\" class=\"dataframe\">\n",
       "  <thead>\n",
       "    <tr style=\"text-align: right;\">\n",
       "      <th></th>\n",
       "      <th>출원번호</th>\n",
       "      <th>출원일자</th>\n",
       "      <th>발명의명칭(국문)</th>\n",
       "      <th>발명의명칭(영문)</th>\n",
       "      <th>초록</th>\n",
       "      <th>preprocess_abstract</th>\n",
       "      <th>청구항</th>\n",
       "      <th>ipc코드</th>\n",
       "      <th>cpc코드</th>\n",
       "    </tr>\n",
       "  </thead>\n",
       "  <tbody>\n",
       "    <tr>\n",
       "      <th>0</th>\n",
       "      <td>1009880005252</td>\n",
       "      <td>19880506</td>\n",
       "      <td>가스 스트림의 처리</td>\n",
       "      <td></td>\n",
       "      <td>NaN</td>\n",
       "      <td>NaN</td>\n",
       "      <td>[황화수소를 포함하는 제1가스 스트림을 제1연소대역속으로 통과시켜서 그 속에서 이 ...</td>\n",
       "      <td>C01B 17/04</td>\n",
       "      <td>NaN</td>\n",
       "    </tr>\n",
       "    <tr>\n",
       "      <th>1</th>\n",
       "      <td>1009890015702</td>\n",
       "      <td>19891030</td>\n",
       "      <td>회전활강장치</td>\n",
       "      <td></td>\n",
       "      <td>NaN</td>\n",
       "      <td>NaN</td>\n",
       "      <td>[경사지게 형성한 활주면과, 이 활주면 위를 활주하는 활주체와, 상기 활주면에 배설...</td>\n",
       "      <td>A63G 29/00</td>\n",
       "      <td>NaN</td>\n",
       "    </tr>\n",
       "    <tr>\n",
       "      <th>2</th>\n",
       "      <td>1009940008104</td>\n",
       "      <td>19940418</td>\n",
       "      <td>주행 로보트 전력 제어 장치</td>\n",
       "      <td></td>\n",
       "      <td>NaN</td>\n",
       "      <td>NaN</td>\n",
       "      <td>[내부 전원과 외부로부터 전력을 공급받는 외부 전원을 선택하여 주전원으로 사용할 수...</td>\n",
       "      <td>G05F 1/10</td>\n",
       "      <td>NaN</td>\n",
       "    </tr>\n",
       "    <tr>\n",
       "      <th>3</th>\n",
       "      <td>1011920014920</td>\n",
       "      <td>19920819</td>\n",
       "      <td>냉장고 팬모터의 속도 안정화회로 및 그 방법</td>\n",
       "      <td></td>\n",
       "      <td>NaN</td>\n",
       "      <td>NaN</td>\n",
       "      <td>[전원전압의 변화량을 감지하도록 한 전원전압감지입력부(33)와, 상기 전원전압감지입...</td>\n",
       "      <td>H02M 1/00</td>\n",
       "      <td>NaN</td>\n",
       "    </tr>\n",
       "    <tr>\n",
       "      <th>4</th>\n",
       "      <td>1018830001360</td>\n",
       "      <td>19830401</td>\n",
       "      <td>디지탈 정보신호 기록방법과 장치 및 기록 캐리어</td>\n",
       "      <td></td>\n",
       "      <td>NaN</td>\n",
       "      <td>NaN</td>\n",
       "      <td>[방사 펄스가 단위 기록 마크를 기록 캐리어상에 형성되도록 하는 에너지를 갖고 있으...</td>\n",
       "      <td>G11B 7/00</td>\n",
       "      <td>NaN</td>\n",
       "    </tr>\n",
       "  </tbody>\n",
       "</table>\n",
       "</div>"
      ],
      "text/plain": [
       "            출원번호      출원일자                   발명의명칭(국문) 발명의명칭(영문)   초록  \\\n",
       "0  1009880005252  19880506                  가스 스트림의 처리            NaN   \n",
       "1  1009890015702  19891030                      회전활강장치            NaN   \n",
       "2  1009940008104  19940418             주행 로보트 전력 제어 장치            NaN   \n",
       "3  1011920014920  19920819    냉장고 팬모터의 속도 안정화회로 및 그 방법            NaN   \n",
       "4  1018830001360  19830401  디지탈 정보신호 기록방법과 장치 및 기록 캐리어            NaN   \n",
       "\n",
       "  preprocess_abstract                                                청구항  \\\n",
       "0                 NaN  [황화수소를 포함하는 제1가스 스트림을 제1연소대역속으로 통과시켜서 그 속에서 이 ...   \n",
       "1                 NaN  [경사지게 형성한 활주면과, 이 활주면 위를 활주하는 활주체와, 상기 활주면에 배설...   \n",
       "2                 NaN  [내부 전원과 외부로부터 전력을 공급받는 외부 전원을 선택하여 주전원으로 사용할 수...   \n",
       "3                 NaN  [전원전압의 변화량을 감지하도록 한 전원전압감지입력부(33)와, 상기 전원전압감지입...   \n",
       "4                 NaN  [방사 펄스가 단위 기록 마크를 기록 캐리어상에 형성되도록 하는 에너지를 갖고 있으...   \n",
       "\n",
       "        ipc코드 cpc코드  \n",
       "0  C01B 17/04   NaN  \n",
       "1  A63G 29/00   NaN  \n",
       "2   G05F 1/10   NaN  \n",
       "3   H02M 1/00   NaN  \n",
       "4   G11B 7/00   NaN  "
      ]
     },
     "execution_count": 29,
     "metadata": {},
     "output_type": "execute_result"
    }
   ],
   "source": [
    "patent_df = pd.merge(new_bibliographic_df, new_abstract_df, how='outer',on='출원번호')\n",
    "patent_df = pd.merge(patent_df, claim_df, how='outer',on='출원번호')\n",
    "patent_df = pd.merge(patent_df, new_ipc_df, how='outer',on='출원번호')\n",
    "patent_df = pd.merge(patent_df, new_cpc_df, how='outer',on='출원번호')\n",
    "patent_df.head()"
   ]
  },
  {
   "cell_type": "code",
   "execution_count": 33,
   "metadata": {},
   "outputs": [],
   "source": [
    "patent_df['발명의명칭(영문)'] = patent_df['발명의명칭(영문)'].apply(lambda x : str(x).strip())"
   ]
  },
  {
   "cell_type": "code",
   "execution_count": 36,
   "metadata": {},
   "outputs": [],
   "source": [
    "def cleaning_en_title(data):\n",
    "    if len(data) == 0:\n",
    "        return np.nan\n",
    "\n",
    "    else:\n",
    "        return data"
   ]
  },
  {
   "cell_type": "code",
   "execution_count": 37,
   "metadata": {},
   "outputs": [
    {
     "data": {
      "application/vnd.jupyter.widget-view+json": {
       "model_id": "b720336d8d574e788397d659cbc73a54",
       "version_major": 2,
       "version_minor": 0
      },
      "text/plain": [
       "  0%|          | 0/4862455 [00:00<?, ?it/s]"
      ]
     },
     "metadata": {},
     "output_type": "display_data"
    },
    {
     "data": {
      "text/plain": [
       "704495"
      ]
     },
     "execution_count": 37,
     "metadata": {},
     "output_type": "execute_result"
    }
   ],
   "source": [
    "patent_df['발명의명칭(영문)'] = patent_df['발명의명칭(영문)'].progress_apply(cleaning_en_title)\n",
    "patent_df['발명의명칭(영문)'].isna().sum()"
   ]
  },
  {
   "cell_type": "code",
   "execution_count": 41,
   "metadata": {},
   "outputs": [],
   "source": [
    "patent_df.to_csv('./Data/Preprocessing/Final_Patent_Info.csv', index= False, encoding= 'utf-8-sig')"
   ]
  },
  {
   "cell_type": "code",
   "execution_count": 42,
   "metadata": {},
   "outputs": [
    {
     "name": "stdout",
     "output_type": "stream",
     "text": [
      "<class 'pandas.core.frame.DataFrame'>\n",
      "Int64Index: 4862455 entries, 0 to 4862454\n",
      "Data columns (total 9 columns):\n",
      "출원번호                   int64\n",
      "출원일자                   object\n",
      "발명의명칭(국문)              object\n",
      "발명의명칭(영문)              object\n",
      "초록                     object\n",
      "preprocess_abstract    object\n",
      "청구항                    object\n",
      "ipc코드                  object\n",
      "cpc코드                  object\n",
      "dtypes: int64(1), object(8)\n",
      "memory usage: 371.0+ MB\n"
     ]
    }
   ],
   "source": [
    "patent_df.info()"
   ]
  },
  {
   "cell_type": "code",
   "execution_count": null,
   "metadata": {},
   "outputs": [],
   "source": []
  }
 ],
 "metadata": {
  "interpreter": {
   "hash": "45150093197569bb3a58481dcd32cd1adb45462fa3448719e8ac38ada6166aca"
  },
  "kernelspec": {
   "display_name": "Python 3.6.10 ('tensorflow2_p36')",
   "language": "python",
   "name": "python3"
  },
  "language_info": {
   "codemirror_mode": {
    "name": "ipython",
    "version": 3
   },
   "file_extension": ".py",
   "mimetype": "text/x-python",
   "name": "python",
   "nbconvert_exporter": "python",
   "pygments_lexer": "ipython3",
   "version": "3.6.10"
  },
  "orig_nbformat": 4
 },
 "nbformat": 4,
 "nbformat_minor": 2
}
